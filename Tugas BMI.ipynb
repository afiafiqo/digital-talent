{
 "cells": [
  {
   "cell_type": "code",
   "execution_count": 6,
   "metadata": {},
   "outputs": [
    {
     "name": "stdout",
     "output_type": "stream",
     "text": [
      "=======Program Body Mass Index (BMI)=======\n",
      "\n",
      "Berat Badan \t: 45.0 kg\n",
      "Tinggi Badan \t: 155.0 cm\n",
      "Nilai BMI \t: 18.73\n",
      "Kategori BMI \t: Normal (healthy weight)\n",
      "\n",
      "Terima Kasih, Program Selesai ^^\n",
      "===========================================\n"
     ]
    }
   ],
   "source": [
    "#input\n",
    "weight = float (45)\n",
    "height_cm = float (155)\n",
    "\n",
    "#proses\n",
    "height_m = height_cm/100\n",
    "BMI = weight/(height_m**2)\n",
    "\n",
    "if BMI<15:\n",
    "    kategoriBMI = \"Very severely underweight\"\n",
    "elif BMI>=15 and BMI<16:\n",
    "    kategoriBMI = \"Severely underweight\"\n",
    "elif BMI>=16 and BMI<18.5:\n",
    "    kategoriBMI = \"Underweight\"\n",
    "elif BMI>=18.5 and BMI<25:\n",
    "    kategoriBMI = \"Normal (healthy weight)\"\n",
    "elif BMI>=25 and BMI<30:\n",
    "    kategoriBMI = \"Overweight\"\n",
    "elif BMI>=30 and BMI<35:\n",
    "    kategoriBMI = \"Moderately obese\"\n",
    "elif BMI>=35 and BMI<40:\n",
    "    kategoriBMI = \"Severely obese\"\n",
    "else:\n",
    "    kategoriBMI = \"Very severely obese\"\n",
    "\n",
    "#output\n",
    "print (\"=======Program Body Mass Index (BMI)=======\\n\")\n",
    "print (\"Berat Badan \\t:\",weight,\"kg\")\n",
    "print (\"Tinggi Badan \\t:\",height_cm,\"cm\")\n",
    "print (\"Nilai BMI \\t: %.2f\"%BMI)\n",
    "print (\"Kategori BMI \\t:\",kategoriBMI)\n",
    "print (\"\\nTerima Kasih, Program Selesai ^^\")\n",
    "print (\"===========================================\")"
   ]
  },
  {
   "cell_type": "code",
   "execution_count": null,
   "metadata": {},
   "outputs": [],
   "source": []
  }
 ],
 "metadata": {
  "kernelspec": {
   "display_name": "Python 3",
   "language": "python",
   "name": "python3"
  },
  "language_info": {
   "codemirror_mode": {
    "name": "ipython",
    "version": 3
   },
   "file_extension": ".py",
   "mimetype": "text/x-python",
   "name": "python",
   "nbconvert_exporter": "python",
   "pygments_lexer": "ipython3",
   "version": "3.7.0"
  }
 },
 "nbformat": 4,
 "nbformat_minor": 2
}
