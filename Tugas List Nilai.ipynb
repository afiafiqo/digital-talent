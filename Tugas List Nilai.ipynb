{
 "cells": [
  {
   "cell_type": "markdown",
   "metadata": {},
   "source": [
    "# Nilai Random"
   ]
  },
  {
   "cell_type": "code",
   "execution_count": 16,
   "metadata": {},
   "outputs": [
    {
     "name": "stdout",
     "output_type": "stream",
     "text": [
      "[69, 51, 17, 88, 17, 81, 99, 88, 23, 43, 55, 38, 60, 64, 27, 64, 42, 56, 7, 24, 21, 26, 2, 22, 84, 16, 18, 87, 83, 78, 8, 15, 35, 46, 4, 69, 36, 77, 12, 60, 25, 57, 16, 83, 55, 17, 76, 78, 23, 40, 51, 80, 13, 35, 96, 90, 11, 34, 85, 72, 36, 63, 76, 66, 24, 72, 1, 80, 22, 68, 57, 99, 51, 35, 48, 16, 62, 44, 69, 33, 43, 18, 77, 3, 96, 77, 27, 46, 27, 3, 25, 92, 28, 49, 5, 74, 59, 84, 69, 47, 32, 90, 33, 47, 95, 90, 32, 27, 89, 12, 23, 3, 96, 79, 45, 54, 31, 57, 84, 83, 53, 40, 92, 11, 40, 31, 81, 41, 91, 74, 88, 90, 70, 24, 50, 69, 27, 53, 62, 51, 23, 98, 44, 75, 54, 58, 3, 97, 52, 5, 69, 63, 90, 8, 80, 96, 84, 64, 68, 31, 82, 88, 29, 71, 50, 64, 53, 75, 11, 77, 51, 67, 97, 28, 28, 7, 99, 51, 27, 15, 74, 45, 21, 66, 66, 81, 76, 67, 18, 47, 75, 5, 56, 45, 16, 54, 13, 15, 95, 90, 15, 69, 46, 33, 19, 79, 82, 14, 84, 24, 27, 80, 94, 64, 66, 73, 88, 69, 95, 67, 86, 86, 98, 66, 15, 24, 30, 92, 24, 52, 91, 97, 47, 99, 93, 52, 48, 30, 22, 52, 33, 13, 81, 98, 19, 45, 43, 44, 82, 18]\n"
     ]
    }
   ],
   "source": [
    "import random\n",
    "\n",
    "# GENERATE RANDOM\n",
    "nilaiTugas = []\n",
    "for i in range(250):\n",
    "    nilaiTugas.append(random.randrange(1,100,1))\n",
    "\n",
    "print(nilaiTugas)"
   ]
  },
  {
   "cell_type": "markdown",
   "metadata": {},
   "source": [
    "# Nilai Ganjil"
   ]
  },
  {
   "cell_type": "code",
   "execution_count": 17,
   "metadata": {},
   "outputs": [
    {
     "name": "stdout",
     "output_type": "stream",
     "text": [
      "[69, 51, 17, 17, 81, 99, 23, 43, 55, 27, 7, 21, 87, 83, 15, 35, 69, 77, 25, 57, 83, 55, 17, 23, 51, 13, 35, 11, 85, 63, 1, 57, 99, 51, 35, 69, 33, 43, 77, 3, 77, 27, 27, 3, 25, 49, 5, 59, 69, 47, 33, 47, 95, 27, 89, 23, 3, 79, 45, 31, 57, 83, 53, 11, 31, 81, 41, 91, 69, 27, 53, 51, 23, 75, 3, 97, 5, 69, 63, 31, 29, 71, 53, 75, 11, 77, 51, 67, 97, 7, 99, 51, 27, 15, 45, 21, 81, 67, 47, 75, 5, 45, 13, 15, 95, 15, 69, 33, 19, 79, 27, 73, 69, 95, 67, 15, 91, 97, 47, 99, 93, 33, 13, 81, 19, 45, 43]\n"
     ]
    }
   ],
   "source": [
    "nilaiGanjil = []\n",
    "for nilai in nilaiTugas:\n",
    "    if nilai%2!=0:\n",
    "        nilaiGanjil.append(nilai)\n",
    "print (nilaiGanjil)"
   ]
  },
  {
   "cell_type": "markdown",
   "metadata": {},
   "source": [
    "# Nilai > 70"
   ]
  },
  {
   "cell_type": "code",
   "execution_count": 18,
   "metadata": {},
   "outputs": [
    {
     "name": "stdout",
     "output_type": "stream",
     "text": [
      "[88, 81, 99, 88, 84, 87, 83, 78, 77, 83, 76, 78, 80, 96, 90, 85, 72, 76, 72, 80, 99, 77, 96, 77, 92, 74, 84, 90, 95, 90, 89, 96, 79, 84, 83, 92, 81, 91, 74, 88, 90, 98, 75, 97, 90, 80, 96, 84, 82, 88, 71, 75, 77, 97, 99, 74, 81, 76, 75, 95, 90, 79, 82, 84, 80, 94, 73, 88, 95, 86, 86, 98, 92, 91, 97, 99, 93, 81, 98, 82]\n"
     ]
    }
   ],
   "source": [
    "nilaiLebih70 = []\n",
    "for n in nilaiTugas:\n",
    "    if n>70:\n",
    "        nilaiLebih70.append(n)\n",
    "print (nilaiLebih70)"
   ]
  },
  {
   "cell_type": "markdown",
   "metadata": {},
   "source": [
    "# Standar Deviasi"
   ]
  },
  {
   "cell_type": "code",
   "execution_count": 19,
   "metadata": {},
   "outputs": [
    {
     "name": "stdout",
     "output_type": "stream",
     "text": [
      "Rata-rata \t : 52.74\n",
      "Standar Deviasi  : 28.326\n"
     ]
    }
   ],
   "source": [
    "jumlah = total = 0\n",
    "\n",
    "#hitung rata-rata\n",
    "for i in nilaiTugas:\n",
    "    jumlah = jumlah+i\n",
    "rata2 = jumlah/len(nilaiTugas)\n",
    "\n",
    "#hitung standar deviasi\n",
    "for a in nilaiTugas:\n",
    "    total = total + ((a-rata2)**2)\n",
    "standarDeviasi = (total/(len(nilaiTugas)-1))**(0.5)\n",
    "\n",
    "print (\"Rata-rata \\t :\",rata2)\n",
    "print (\"Standar Deviasi  : %.3f\"%standarDeviasi)"
   ]
  },
  {
   "cell_type": "markdown",
   "metadata": {},
   "source": [
    "# Nilai Maksimum"
   ]
  },
  {
   "cell_type": "code",
   "execution_count": 20,
   "metadata": {},
   "outputs": [
    {
     "name": "stdout",
     "output_type": "stream",
     "text": [
      "Nilai Maksimum : 99\n"
     ]
    }
   ],
   "source": [
    "nilaiMaksimum = nilaiTugas[0]\n",
    "for b in nilaiTugas:\n",
    "    if b>nilaiMaksimum:\n",
    "        nilaiMaksimum = b\n",
    "print (\"Nilai Maksimum :\",nilaiMaksimum)"
   ]
  },
  {
   "cell_type": "markdown",
   "metadata": {},
   "source": [
    "# Nilai Minimum"
   ]
  },
  {
   "cell_type": "code",
   "execution_count": 21,
   "metadata": {},
   "outputs": [
    {
     "name": "stdout",
     "output_type": "stream",
     "text": [
      "Nilai Minimum : 1\n"
     ]
    }
   ],
   "source": [
    "nilaiMinimum = nilaiTugas[0]\n",
    "for c in nilaiTugas:\n",
    "    if c<nilaiMinimum:\n",
    "        nilaiMinimum = c\n",
    "print (\"Nilai Minimum :\",nilaiMinimum)"
   ]
  },
  {
   "cell_type": "markdown",
   "metadata": {},
   "source": [
    "# Modus"
   ]
  },
  {
   "cell_type": "code",
   "execution_count": 22,
   "metadata": {},
   "outputs": [
    {
     "name": "stdout",
     "output_type": "stream",
     "text": [
      "Frekuensi Nilai:\n",
      "{69: 8, 51: 6, 17: 3, 88: 5, 81: 4, 99: 4, 23: 4, 43: 3, 55: 2, 38: 1, 60: 2, 64: 5, 27: 7, 42: 1, 56: 2, 7: 2, 24: 6, 21: 2, 26: 1, 2: 1, 22: 3, 84: 5, 16: 4, 18: 4, 87: 1, 83: 3, 78: 2, 8: 2, 15: 5, 35: 3, 46: 3, 4: 1, 36: 2, 77: 4, 12: 2, 25: 2, 57: 3, 76: 3, 40: 3, 80: 4, 13: 3, 96: 4, 90: 6, 11: 3, 34: 1, 85: 1, 72: 2, 63: 2, 66: 5, 1: 1, 68: 2, 48: 2, 62: 2, 44: 3, 33: 4, 3: 4, 92: 3, 28: 3, 49: 1, 5: 3, 74: 3, 59: 1, 47: 4, 32: 2, 95: 3, 89: 1, 79: 2, 45: 4, 54: 3, 31: 3, 53: 3, 41: 1, 91: 2, 70: 1, 50: 2, 98: 3, 75: 3, 58: 1, 97: 3, 52: 4, 82: 3, 29: 1, 71: 1, 67: 3, 19: 2, 14: 1, 94: 1, 73: 1, 86: 2, 30: 2, 93: 1}\n",
      "\n",
      "Keys Nilai:\n",
      "[69, 51, 17, 88, 81, 99, 23, 43, 55, 38, 60, 64, 27, 42, 56, 7, 24, 21, 26, 2, 22, 84, 16, 18, 87, 83, 78, 8, 15, 35, 46, 4, 36, 77, 12, 25, 57, 76, 40, 80, 13, 96, 90, 11, 34, 85, 72, 63, 66, 1, 68, 48, 62, 44, 33, 3, 92, 28, 49, 5, 74, 59, 47, 32, 95, 89, 79, 45, 54, 31, 53, 41, 91, 70, 50, 98, 75, 58, 97, 52, 82, 29, 71, 67, 19, 14, 94, 73, 86, 30, 93]\n",
      "\n",
      "Modus:\n",
      "[69]\n",
      "\n",
      "Jumlah Kemunculan : 8 \n",
      "\n",
      "Nilai  69  muncul sebanyak  8  kali\n"
     ]
    }
   ],
   "source": [
    "frekuensiNilai = {}\n",
    "keysNilai = []\n",
    "modus = []\n",
    "for d in nilaiTugas:\n",
    "    count = 0\n",
    "    for e in nilaiTugas:\n",
    "        if d==e:\n",
    "            count = count+1\n",
    "    frekuensiNilai[d]=count\n",
    "    if (d not in keysNilai):\n",
    "        keysNilai.append(d)\n",
    "print (\"Frekuensi Nilai:\")\n",
    "print (frekuensiNilai)\n",
    "print (\"\\nKeys Nilai:\")\n",
    "print (keysNilai)\n",
    "temporaryFrekuensi = frekuensiNilai[keysNilai[0]]\n",
    "for e in keysNilai:\n",
    "    if frekuensiNilai[e]>temporaryFrekuensi:\n",
    "        modus.clear()\n",
    "        modus.append(e)\n",
    "        temporaryFrekuensi = frekuensiNilai[e]\n",
    "    elif frekuensiNilai[e]==temporaryFrekuensi:\n",
    "        modus.append(e)\n",
    "print (\"\\nModus:\")\n",
    "print (modus)\n",
    "print (\"\\nJumlah Kemunculan :\",temporaryFrekuensi,\"\\n\")\n",
    "for m in modus:\n",
    "    print (\"Nilai \",m,\" muncul sebanyak \",frekuensiNilai[m],\" kali\")"
   ]
  },
  {
   "cell_type": "code",
   "execution_count": null,
   "metadata": {},
   "outputs": [],
   "source": []
  }
 ],
 "metadata": {
  "kernelspec": {
   "display_name": "Python 3",
   "language": "python",
   "name": "python3"
  },
  "language_info": {
   "codemirror_mode": {
    "name": "ipython",
    "version": 3
   },
   "file_extension": ".py",
   "mimetype": "text/x-python",
   "name": "python",
   "nbconvert_exporter": "python",
   "pygments_lexer": "ipython3",
   "version": "3.7.0"
  }
 },
 "nbformat": 4,
 "nbformat_minor": 2
}
